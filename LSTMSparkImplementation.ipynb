{
  "nbformat": 4,
  "nbformat_minor": 0,
  "metadata": {
    "colab": {
      "name": "LSTMSparkImplementationFinal.ipynb",
      "provenance": [],
      "collapsed_sections": []
    },
    "language_info": {
      "codemirror_mode": {
        "name": "ipython",
        "version": 3
      },
      "file_extension": ".py",
      "mimetype": "text/x-python",
      "name": "python",
      "nbconvert_exporter": "python",
      "pygments_lexer": "ipython3",
      "version": "3.6.7"
    },
    "kernelspec": {
      "display_name": "Python 3",
      "language": "python",
      "name": "python3"
    }
  },
  "cells": [
    {
      "cell_type": "code",
      "metadata": {
        "colab_type": "code",
        "id": "H-X0EW_DUPQ4",
        "outputId": "ea4f851a-42b9-48f7-fbeb-fd10c460bf85",
        "colab": {
          "base_uri": "https://localhost:8080/",
          "height": 80
        }
      },
      "source": [
        "!pip install pyspark"
      ],
      "execution_count": 0,
      "outputs": [
        {
          "output_type": "stream",
          "text": [
            "Requirement already satisfied: pyspark in /usr/local/lib/python3.6/dist-packages (2.4.2)\n",
            "Requirement already satisfied: py4j==0.10.7 in /usr/local/lib/python3.6/dist-packages (from pyspark) (0.10.7)\n"
          ],
          "name": "stdout"
        }
      ]
    },
    {
      "cell_type": "code",
      "metadata": {
        "colab_type": "code",
        "id": "wo4tq3HsQKag",
        "outputId": "674471d6-5948-401e-94d4-39cabcfbabd8",
        "colab": {
          "base_uri": "https://localhost:8080/",
          "height": 34
        }
      },
      "source": [
        "#importing required libraries\n",
        "import pandas as pd\n",
        "import numpy as np\n",
        "import matplotlib.pyplot as plt\n",
        "import pickle as pkl\n",
        "import warnings\n",
        "from datetime import datetime\n",
        "import os\n",
        "warnings.filterwarnings('ignore')\n",
        "#os.mkdir('finmod')\n",
        "from sklearn.preprocessing import MinMaxScaler\n",
        "from keras.models import Sequential,load_model\n",
        "from keras.layers import Dense, Dropout, LSTM\n",
        "from pyspark.sql import SparkSession\n",
        "from pyspark.ml import feature\n",
        "from pyspark.ml import classification\n",
        "from pyspark.sql import functions as fn\n",
        "from pyspark.ml import Pipeline\n",
        "from pyspark.ml import regression\n",
        "from pyspark.ml.evaluation import BinaryClassificationEvaluator, \\\n",
        "    MulticlassClassificationEvaluator, \\\n",
        "    RegressionEvaluator\n",
        "from pyspark.ml.tuning import CrossValidator, ParamGridBuilder\n",
        "import matplotlib.pyplot as plt\n",
        "import seaborn as sns\n",
        "import pandas as pd\n",
        "from pyspark.sql import SparkSession\n",
        "from pyspark.sql.window import Window\n",
        "import pyspark.sql.functions as fn\n",
        "from datetime import datetime, timedelta\n",
        "spark = SparkSession.builder.getOrCreate()\n",
        "sc = spark.sparkContext"
      ],
      "execution_count": 0,
      "outputs": [
        {
          "output_type": "stream",
          "text": [
            "Using TensorFlow backend.\n"
          ],
          "name": "stderr"
        }
      ]
    },
    {
      "cell_type": "code",
      "metadata": {
        "colab_type": "code",
        "id": "7Ym5o1ZPQKak",
        "colab": {}
      },
      "source": [
        "#reading data\n",
        "stock_df = spark.read.csv('snp500datafinal.csv', header=True, inferSchema=True)\n",
        "snp=pd.read_csv('constituents_csv.csv')\n",
        "snpticks=snp['Symbol'].values.tolist()"
      ],
      "execution_count": 0,
      "outputs": []
    },
    {
      "cell_type": "markdown",
      "metadata": {
        "id": "ZGholne71yOL",
        "colab_type": "text"
      },
      "source": [
        "First we build our model for a single stock and then build a function to work with different stocks"
      ]
    },
    {
      "cell_type": "code",
      "metadata": {
        "colab_type": "code",
        "id": "fC82i8wm0qne",
        "colab": {}
      },
      "source": [
        "atrm = stock_df.where(fn.col('ticker')=='ABT')\n",
        "atrm = atrm.select('close','date')"
      ],
      "execution_count": 0,
      "outputs": []
    },
    {
      "cell_type": "code",
      "metadata": {
        "colab_type": "code",
        "id": "bB8iAgxujmOh",
        "colab": {}
      },
      "source": [
        "#We create a new column called 'id' to split our data to maintain the temporal aspect of our data\n",
        "atrm = atrm.withColumn(\"id\",fn.monotonically_increasing_id())"
      ],
      "execution_count": 0,
      "outputs": []
    },
    {
      "cell_type": "code",
      "metadata": {
        "colab_type": "code",
        "id": "q2eQY-FRVP-B",
        "outputId": "d771b1cf-a7f1-40c6-a389-7b5a8448ffa6",
        "colab": {
          "base_uri": "https://localhost:8080/",
          "height": 289
        }
      },
      "source": [
        "atrm.show(10)"
      ],
      "execution_count": 0,
      "outputs": [
        {
          "output_type": "stream",
          "text": [
            "+-----+----------+---+\n",
            "|close|      date| id|\n",
            "+-----+----------+---+\n",
            "|32.05|02-01-2013|  0|\n",
            "|33.27|03-01-2013|  1|\n",
            "|33.07|04-01-2013|  2|\n",
            "|33.34|07-01-2013|  3|\n",
            "|33.35|08-01-2013|  4|\n",
            "|33.57|09-01-2013|  5|\n",
            "|33.85|10-01-2013|  6|\n",
            "|33.37|11-01-2013|  7|\n",
            "|33.36|14-01-2013|  8|\n",
            "|33.02|15-01-2013|  9|\n",
            "+-----+----------+---+\n",
            "only showing top 10 rows\n",
            "\n"
          ],
          "name": "stdout"
        }
      ]
    },
    {
      "cell_type": "markdown",
      "metadata": {
        "id": "ALCuHpLE1yOU",
        "colab_type": "text"
      },
      "source": [
        "We now create a Train-test split for cross-validation purposes"
      ]
    },
    {
      "cell_type": "code",
      "metadata": {
        "colab_type": "code",
        "id": "Q1ZyAaMLcisz",
        "colab": {}
      },
      "source": [
        "#creating train and test sets\n",
        "lent = atrm.count()\n",
        "itrain = int(0.8*lent)\n",
        "train = atrm.where(fn.col('id')<itrain)\n",
        "valid = atrm.where(fn.col('id')>=itrain)\n",
        "train = train.select('close').collect()\n",
        "train = [float(row.close) for row in train]\n",
        "valid = valid.select('close').collect()\n",
        "valid = [float(row.close) for row in valid]"
      ],
      "execution_count": 0,
      "outputs": []
    },
    {
      "cell_type": "code",
      "metadata": {
        "colab_type": "code",
        "id": "e-WW5ZVGdD75",
        "colab": {}
      },
      "source": [
        "#Here we scale the data using MinMax Scaler and make our x_train and y_train for training\n",
        "scaler = MinMaxScaler(feature_range=(0, 1))\n",
        "data = train.copy()\n",
        "data.extend(valid)\n",
        "dat=np.reshape(data,(-1,1))\n",
        "scaled_data = scaler.fit_transform(dat)\n",
        "x_train, y_train = [], []\n",
        "for i in range(60,len(train)):\n",
        "    x_train.append(scaled_data[i-60:i,0])\n",
        "    y_train.append(scaled_data[i,0])\n",
        "x_train, y_train = np.array(x_train), np.array(y_train)\n",
        "x_train = np.reshape(x_train, (x_train.shape[0],x_train.shape[1],1))"
      ],
      "execution_count": 0,
      "outputs": []
    },
    {
      "cell_type": "code",
      "metadata": {
        "colab_type": "code",
        "id": "hzImbmv_d7MI",
        "outputId": "d783801b-f6f9-40f5-b2e1-7c36b12b17b6",
        "colab": {
          "base_uri": "https://localhost:8080/",
          "height": 290
        }
      },
      "source": [
        "# Next we create our LSTM model\n",
        "model = Sequential()\n",
        "model.add(LSTM(units=50, return_sequences=True, input_shape=(x_train.shape[1],1)))\n",
        "model.add(Dropout(0.2))\n",
        "model.add(LSTM(units=50))\n",
        "model.add(Dense(1))\n",
        "#Compile it and fit it on our training data\n",
        "model.compile(loss='mean_squared_error', optimizer='adam')\n",
        "model.fit(x_train, y_train, epochs=2, batch_size=1, verbose=2)"
      ],
      "execution_count": 0,
      "outputs": [
        {
          "output_type": "stream",
          "text": [
            "WARNING:tensorflow:From /usr/local/lib/python3.6/dist-packages/tensorflow/python/framework/op_def_library.py:263: colocate_with (from tensorflow.python.framework.ops) is deprecated and will be removed in a future version.\n",
            "Instructions for updating:\n",
            "Colocations handled automatically by placer.\n",
            "WARNING:tensorflow:From /usr/local/lib/python3.6/dist-packages/keras/backend/tensorflow_backend.py:3445: calling dropout (from tensorflow.python.ops.nn_ops) with keep_prob is deprecated and will be removed in a future version.\n",
            "Instructions for updating:\n",
            "Please use `rate` instead of `keep_prob`. Rate should be set to `rate = 1 - keep_prob`.\n",
            "WARNING:tensorflow:From /usr/local/lib/python3.6/dist-packages/tensorflow/python/ops/math_ops.py:3066: to_int32 (from tensorflow.python.ops.math_ops) is deprecated and will be removed in a future version.\n",
            "Instructions for updating:\n",
            "Use tf.cast instead.\n",
            "Epoch 1/2\n",
            " - 59s - loss: 0.0015\n",
            "Epoch 2/2\n",
            " - 58s - loss: 6.7383e-04\n"
          ],
          "name": "stdout"
        },
        {
          "output_type": "execute_result",
          "data": {
            "text/plain": [
              "<keras.callbacks.History at 0x7f497b706a20>"
            ]
          },
          "metadata": {
            "tags": []
          },
          "execution_count": 9
        }
      ]
    },
    {
      "cell_type": "code",
      "metadata": {
        "colab_type": "code",
        "id": "8zmP6WQ-QKcf",
        "colab": {}
      },
      "source": [
        "#Here we predict 246 values using past 60 values from the training data\n",
        "inputs = dat[len(dat) - len(valid) - 60:]\n",
        "inputs = np.array(inputs)\n",
        "inputs  = scaler.transform(inputs)\n",
        "\n",
        "X_test = []\n",
        "for i in range(60,inputs.shape[0]):\n",
        "    X_test.append(inputs[i-60:i,0])\n",
        "X_test = np.array(X_test)\n",
        "X_test = np.reshape(X_test, (X_test.shape[0],X_test.shape[1],1))\n",
        "closing_price = model.predict(X_test)\n",
        "closing_price = scaler.inverse_transform(closing_price)"
      ],
      "execution_count": 0,
      "outputs": []
    },
    {
      "cell_type": "markdown",
      "metadata": {
        "id": "wMxYFm0z1yOe",
        "colab_type": "text"
      },
      "source": [
        "We use RMSE to check performance on validation set"
      ]
    },
    {
      "cell_type": "code",
      "metadata": {
        "colab_type": "code",
        "id": "Li4pXWumScY7",
        "outputId": "42cdc714-3937-4870-bdfa-e1bb8cdd02c4",
        "colab": {
          "base_uri": "https://localhost:8080/",
          "height": 34
        }
      },
      "source": [
        "rms=np.sqrt(np.mean(np.power((valid-closing_price),2)))\n",
        "rms"
      ],
      "execution_count": 0,
      "outputs": [
        {
          "output_type": "execute_result",
          "data": {
            "text/plain": [
              "7.309177916500724"
            ]
          },
          "metadata": {
            "tags": []
          },
          "execution_count": 11
        }
      ]
    },
    {
      "cell_type": "markdown",
      "metadata": {
        "id": "WAiqTODa1yOh",
        "colab_type": "text"
      },
      "source": [
        "Finally we plot the predictions from the model with the actual value"
      ]
    },
    {
      "cell_type": "code",
      "metadata": {
        "colab_type": "code",
        "id": "R2EukvkmQKck",
        "outputId": "5d72248e-9cc0-450b-9924-f6e3290dbed8",
        "colab": {
          "base_uri": "https://localhost:8080/",
          "height": 269
        }
      },
      "source": [
        "plt.plot(valid)\n",
        "plt.plot(closing_price)\n",
        "plt.show()"
      ],
      "execution_count": 0,
      "outputs": [
        {
          "output_type": "display_data",
          "data": {
            "image/png": "[encoded data removed]",
            "text/plain": [
              "<Figure size 432x288 with 1 Axes>"
            ]
          },
          "metadata": {
            "tags": []
          }
        }
      ]
    },
    {
      "cell_type": "markdown",
      "metadata": {
        "id": "PfZ69vA91yOj",
        "colab_type": "text"
      },
      "source": [
        "Next we create functions to perform the above tasks on different tickers"
      ]
    },
    {
      "cell_type": "code",
      "metadata": {
        "colab_type": "code",
        "id": "3yHfCz3umUrK",
        "colab": {}
      },
      "source": [
        "#Defining lists to store results and failures\n",
        "results=[]\n",
        "failed=[]"
      ],
      "execution_count": 0,
      "outputs": []
    },
    {
      "cell_type": "code",
      "metadata": {
        "colab_type": "code",
        "id": "tmC5Y2RnfvzN",
        "colab": {}
      },
      "source": [
        "#This function create a LSTM model for a given ticker \n",
        "def make_model(atrm,model_name):\n",
        "  try:\n",
        "    #creating train and test sets\n",
        "    lent = atrm.count()\n",
        "    itrain = int(0.7*lent)\n",
        "    train = atrm.where(fn.col('id')<itrain)\n",
        "    valid = atrm.where(fn.col('id')>=itrain)\n",
        "    train = train.select('close').collect()\n",
        "    train = [float(row.close) for row in train]\n",
        "    valid = valid.select('close').collect()\n",
        "    valid = [float(row.close) for row in valid]\n",
        "    #converting dataset into x_train and y_train\n",
        "    data = train.copy()\n",
        "    data.extend(valid)\n",
        "    dat=np.reshape(data,(-1,1))\n",
        "    #defining scaler and scaling data points in range of 0 to 1\n",
        "    scaler = MinMaxScaler(feature_range=(0, 1))\n",
        "    scaled_data = scaler.fit_transform(dat)\n",
        "    x_train, y_train = [], []\n",
        "    for i in range(60,len(train)):\n",
        "        x_train.append(scaled_data[i-60:i,0])\n",
        "        y_train.append(scaled_data[i,0])\n",
        "    x_train, y_train = np.array(x_train), np.array(y_train)\n",
        "    x_train = np.reshape(x_train, (x_train.shape[0],x_train.shape[1],1))\n",
        "    #creating lstm model\n",
        "    model = Sequential()\n",
        "    model.add(LSTM(units=50, return_sequences=True, input_shape=(x_train.shape[1],1)))\n",
        "    model.add(Dropout(0.2))\n",
        "    model.add(LSTM(units=50))\n",
        "    model.add(Dense(1))\n",
        "    model.compile(loss='mean_squared_error', optimizer='adam')\n",
        "    model.fit(x_train, y_train, epochs=2, batch_size=1, verbose=2)\n",
        "    filename= model_name+\".h5\"\n",
        "    model.save('finmod/'+filename)\n",
        "    #predicting 1 years stock prices, using past 60 from the train data and validating\n",
        "    #creating input and output test data\n",
        "    inputs = dat[len(dat) - len(valid) - 60:]\n",
        "    inputs = np.array(inputs)\n",
        "    inputs  = scaler.transform(inputs)\n",
        "    X_test = []\n",
        "    for i in range(60,inputs.shape[0]):\n",
        "        X_test.append(inputs[i-60:i,0])\n",
        "    X_test = np.array(X_test)\n",
        "    X_test = np.reshape(X_test, (X_test.shape[0],X_test.shape[1],1))\n",
        "    #predicting on test data\n",
        "    closing_price = model.predict(X_test)\n",
        "    closing_price = scaler.inverse_transform(closing_price)\n",
        "    rms=np.sqrt(np.mean(np.power((valid-closing_price),2)))\n",
        "    results.append({\"ticker\":model_name,\"rmse\":rms})\n",
        "    print(rms)\n",
        "  except IndexError:\n",
        "    failed.append(model_name)\n",
        "  except ValueError:\n",
        "    failed.append(model_name)"
      ],
      "execution_count": 0,
      "outputs": []
    },
    {
      "cell_type": "code",
      "metadata": {
        "colab_type": "code",
        "id": "TSEBT6EaQZOQ",
        "colab": {}
      },
      "source": [
        "#We test our function on different tickers\n",
        "for val,x in enumerate(snpticks):\n",
        "  atrm = stock_df.where(fn.col('ticker')==x)\n",
        "  atrm = atrm.select('close','date')\n",
        "  atrm = atrm.withColumn(\"id\",fn.monotonically_increasing_id())\n",
        "  print(val,x)\n",
        "  make_model(atrm,x)"
      ],
      "execution_count": 0,
      "outputs": []
    },
    {
      "cell_type": "markdown",
      "metadata": {
        "id": "7Tek_5j21yOs",
        "colab_type": "text"
      },
      "source": [
        "Recommend function defined below takes in input as month, day and year for which you want the stocks to be predicted and list stock tickers from which you want recommendation. Inside this function, the models are picked up from finmod folder and data is used from snp500final data file and thus the models predict stock price on that particular date using last 60 stock price values. Then, it calculates the return values and ranks stocks "
      ]
    },
    {
      "cell_type": "code",
      "metadata": {
        "colab_type": "code",
        "id": "qqYWvEgKsZOW",
        "colab": {}
      },
      "source": [
        "def recommend(month,day,year,stocks):\n",
        "  results=[]\n",
        "  filenames=[]\n",
        "  #making filenames\n",
        "  for x in stocks:\n",
        "    filenames.append(x+\".h5\")\n",
        "  #using all the saved models to get recommendations\n",
        "  for stockmodel in filenames:\n",
        "    x=stockmodel[:-3]\n",
        "    print(x)\n",
        "    atrm = stock_df.where(fn.col('ticker')==x)\n",
        "    atrm = atrm.select('close','date')\n",
        "    atrm = atrm.withColumn(\"id\",fn.monotonically_increasing_id())\n",
        "    data=atrm.select('close').collect()\n",
        "    dat=np.reshape(data,(-1,1))\n",
        "    #defining scaler and scaling data\n",
        "    scaler = MinMaxScaler(feature_range=(0, 1))\n",
        "    scaled_data = scaler.fit_transform(dat)\n",
        "    #loading model\n",
        "    model=load_model(\"finmod/\"+stockmodel)\n",
        "    #getting data of previous 60 values for given date\n",
        "    dt=day+\"-\"+month+\"-\"+year\n",
        "    idx=atrm.where(fn.col('date')==dt).select('id').collect()[0][0]\n",
        "    X_test=atrm.where(fn.col('id')<idx)\n",
        "    X_test=X_test.where(fn.col('id')>=idx-60)\n",
        "    inputs=X_test.select('close').collect()\n",
        "    y=inputs\n",
        "    inputs = np.reshape(inputs,(-1,1))\n",
        "    inputs  = scaler.transform(inputs)\n",
        "    X_test = np.array([inputs])\n",
        "    X_test = np.reshape(X_test, (X_test.shape[0],X_test.shape[1],1))\n",
        "    #predicting that day's stock price\n",
        "    closing_price = model.predict(X_test)\n",
        "    closing_price = scaler.inverse_transform(closing_price)\n",
        "    close=closing_price[0][0]\n",
        "    open=y[0][-1]\n",
        "    return_value=(close-open)/open\n",
        "    #collecting all the return values\n",
        "    results.append({\"ticker\":x,\"return\":return_value})\n",
        "  \n",
        "  #ranking stocks based on return values\n",
        "  results=sorted(results, key = lambda i: i['return'],reverse=True)\n",
        "  return results"
      ],
      "execution_count": 0,
      "outputs": []
    },
    {
      "cell_type": "code",
      "metadata": {
        "colab_type": "code",
        "id": "g3oP-Lna4bul",
        "outputId": "a6a2e8bd-faa7-451e-b501-58c5e877aa83",
        "colab": {
          "base_uri": "https://localhost:8080/",
          "height": 221
        }
      },
      "source": [
        "#testing the function\n",
        "recommend('10','04','2017',['AMZN', 'AAPL', 'EXPE', 'CVS', 'BAC', 'GOOGL'])"
      ],
      "execution_count": 0,
      "outputs": [
        {
          "output_type": "stream",
          "text": [
            "AMZN\n",
            "AAPL\n",
            "EXPE\n",
            "CVS\n",
            "BAC\n",
            "GOOGL\n"
          ],
          "name": "stdout"
        },
        {
          "output_type": "execute_result",
          "data": {
            "text/plain": [
              "[{'return': 0.038003987347201416, 'ticker': 'CVS'},\n",
              " {'return': 0.033118178204792244, 'ticker': 'BAC'},\n",
              " {'return': 0.013328255641209534, 'ticker': 'GOOGL'},\n",
              " {'return': 0.007604431894680213, 'ticker': 'AAPL'},\n",
              " {'return': -0.050563465255895855, 'ticker': 'AMZN'},\n",
              " {'return': -0.11503653788989553, 'ticker': 'EXPE'}]"
            ]
          },
          "metadata": {
            "tags": []
          },
          "execution_count": 14
        }
      ]
    },
    {
      "cell_type": "code",
      "metadata": {
        "id": "c_OSH12A4VZ4",
        "colab_type": "code",
        "colab": {}
      },
      "source": [
        ""
      ],
      "execution_count": 0,
      "outputs": []
    }
  ]
}