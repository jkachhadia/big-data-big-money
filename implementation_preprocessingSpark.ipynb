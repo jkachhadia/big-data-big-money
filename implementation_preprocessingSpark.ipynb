{
  "nbformat": 4,
  "nbformat_minor": 0,
  "metadata": {
    "colab": {
      "name": "LSTMSparkImplementationfin.ipynb",
      "provenance": [],
      "collapsed_sections": []
    },
    "language_info": {
      "codemirror_mode": {
        "name": "ipython",
        "version": 3
      },
      "file_extension": ".py",
      "mimetype": "text/x-python",
      "name": "python",
      "nbconvert_exporter": "python",
      "pygments_lexer": "ipython3",
      "version": "3.6.7"
    },
    "kernelspec": {
      "display_name": "Python 3",
      "language": "python",
      "name": "python3"
    }
  },
  "cells": [
    {
      "cell_type": "code",
      "metadata": {
        "id": "H-X0EW_DUPQ4",
        "colab_type": "code",
        "outputId": "35efa659-78eb-445a-9b38-55b90d685344",
        "colab": {
          "base_uri": "https://localhost:8080/",
          "height": 80
        }
      },
      "source": [
        "!pip install pyspark"
      ],
      "execution_count": 0,
      "outputs": [
        {
          "output_type": "stream",
          "text": [
            "Requirement already satisfied: pyspark in /usr/local/lib/python3.6/dist-packages (2.4.2)\n",
            "Requirement already satisfied: py4j==0.10.7 in /usr/local/lib/python3.6/dist-packages (from pyspark) (0.10.7)\n"
          ],
          "name": "stdout"
        }
      ]
    },
    {
      "cell_type": "code",
      "metadata": {
        "id": "wo4tq3HsQKag",
        "colab_type": "code",
        "outputId": "6b03de34-3528-4d6b-8b8c-305c9330d874",
        "colab": {
          "base_uri": "https://localhost:8080/",
          "height": 34
        }
      },
      "source": [
        "#importing required libraries\n",
        "import pandas as pd\n",
        "import numpy as np\n",
        "import matplotlib.pyplot as plt\n",
        "import pickle as pkl\n",
        "import warnings\n",
        "from datetime import datetime\n",
        "import os\n",
        "warnings.filterwarnings('ignore')\n",
        "#os.mkdir('finmod')\n",
        "from sklearn.preprocessing import MinMaxScaler\n",
        "from keras.models import Sequential,load_model\n",
        "from keras.layers import Dense, Dropout, LSTM\n",
        "from pyspark.sql import SparkSession\n",
        "from pyspark.ml import feature\n",
        "from pyspark.ml import classification\n",
        "from pyspark.sql import functions as fn\n",
        "from pyspark.ml import Pipeline\n",
        "from pyspark.ml import regression\n",
        "from pyspark.ml.evaluation import BinaryClassificationEvaluator, \\\n",
        "    MulticlassClassificationEvaluator, \\\n",
        "    RegressionEvaluator\n",
        "from pyspark.ml.tuning import CrossValidator, ParamGridBuilder\n",
        "import matplotlib.pyplot as plt\n",
        "import seaborn as sns\n",
        "import pandas as pd\n",
        "from pyspark.sql import SparkSession\n",
        "from pyspark.sql.window import Window\n",
        "import pyspark.sql.functions as fn\n",
        "from datetime import datetime, timedelta\n",
        "spark = SparkSession.builder.getOrCreate()\n",
        "sc = spark.sparkContext"
      ],
      "execution_count": 0,
      "outputs": [
        {
          "output_type": "stream",
          "text": [
            "Using TensorFlow backend.\n"
          ],
          "name": "stderr"
        }
      ]
    },
    {
      "cell_type": "code",
      "metadata": {
        "id": "7Ym5o1ZPQKak",
        "colab_type": "code",
        "colab": {}
      },
      "source": [
        "#reading data\n",
        "stock_df = spark.read.csv('snp500datafinal.csv', header=True, inferSchema=True)"
      ],
      "execution_count": 0,
      "outputs": []
    },
    {
      "cell_type": "code",
      "metadata": {
        "id": "fC82i8wm0qne",
        "colab_type": "code",
        "colab": {}
      },
      "source": [
        "atrm = stock_df.where(fn.col('ticker')=='ABT')\n",
        "atrm = atrm.select('close','date')"
      ],
      "execution_count": 0,
      "outputs": []
    },
    {
      "cell_type": "code",
      "metadata": {
        "id": "bB8iAgxujmOh",
        "colab_type": "code",
        "colab": {}
      },
      "source": [
        "atrm = atrm.withColumn(\"id\",fn.monotonically_increasing_id())"
      ],
      "execution_count": 0,
      "outputs": []
    },
    {
      "cell_type": "code",
      "metadata": {
        "id": "q2eQY-FRVP-B",
        "colab_type": "code",
        "outputId": "d3cad873-07b4-45f5-c5c1-a0e53080729c",
        "colab": {
          "base_uri": "https://localhost:8080/",
          "height": 289
        }
      },
      "source": [
        "atrm.show(10)"
      ],
      "execution_count": 0,
      "outputs": [
        {
          "output_type": "stream",
          "text": [
            "+-----+----------+---+\n",
            "|close|      date| id|\n",
            "+-----+----------+---+\n",
            "|32.05|02-01-2013|  0|\n",
            "|33.27|03-01-2013|  1|\n",
            "|33.07|04-01-2013|  2|\n",
            "|33.34|07-01-2013|  3|\n",
            "|33.35|08-01-2013|  4|\n",
            "|33.57|09-01-2013|  5|\n",
            "|33.85|10-01-2013|  6|\n",
            "|33.37|11-01-2013|  7|\n",
            "|33.36|14-01-2013|  8|\n",
            "|33.02|15-01-2013|  9|\n",
            "+-----+----------+---+\n",
            "only showing top 10 rows\n",
            "\n"
          ],
          "name": "stdout"
        }
      ]
    },
    {
      "cell_type": "code",
      "metadata": {
        "id": "Q1ZyAaMLcisz",
        "colab_type": "code",
        "colab": {}
      },
      "source": [
        "#creating train and test sets\n",
        "lent = atrm.count()\n",
        "itrain = int(0.8*lent)\n",
        "train = atrm.where(fn.col('id')<itrain)\n",
        "valid = atrm.where(fn.col('id')>=itrain)\n",
        "train = train.select('close').collect()\n",
        "train = [float(row.close) for row in train]\n",
        "valid = valid.select('close').collect()\n",
        "valid = [float(row.close) for row in valid]"
      ],
      "execution_count": 0,
      "outputs": []
    },
    {
      "cell_type": "code",
      "metadata": {
        "id": "e-WW5ZVGdD75",
        "colab_type": "code",
        "colab": {}
      },
      "source": [
        "#converting dataset into x_train and y_train\n",
        "scaler = MinMaxScaler(feature_range=(0, 1))\n",
        "data = train.copy()\n",
        "data.extend(valid)\n",
        "dat=np.reshape(data,(-1,1))\n",
        "scaled_data = scaler.fit_transform(dat)"
      ],
      "execution_count": 0,
      "outputs": []
    },
    {
      "cell_type": "code",
      "metadata": {
        "id": "hzImbmv_d7MI",
        "colab_type": "code",
        "outputId": "c9c66c19-4151-4d52-a6d3-891479495be8",
        "colab": {
          "base_uri": "https://localhost:8080/",
          "height": 290
        }
      },
      "source": [
        "x_train, y_train = [], []\n",
        "for i in range(60,len(train)):\n",
        "    x_train.append(scaled_data[i-60:i,0])\n",
        "    y_train.append(scaled_data[i,0])\n",
        "x_train, y_train = np.array(x_train), np.array(y_train)\n",
        "\n",
        "x_train = np.reshape(x_train, (x_train.shape[0],x_train.shape[1],1))\n",
        "\n",
        "# create and fit the LSTM network\n",
        "model = Sequential()\n",
        "model.add(LSTM(units=50, return_sequences=True, input_shape=(x_train.shape[1],1)))\n",
        "model.add(Dropout(0.2))\n",
        "model.add(LSTM(units=50))\n",
        "model.add(Dense(1))\n",
        "\n",
        "model.compile(loss='mean_squared_error', optimizer='adam')\n",
        "model.fit(x_train, y_train, epochs=2, batch_size=1, verbose=2)"
      ],
      "execution_count": 0,
      "outputs": [
        {
          "output_type": "stream",
          "text": [
            "WARNING:tensorflow:From /usr/local/lib/python3.6/dist-packages/tensorflow/python/framework/op_def_library.py:263: colocate_with (from tensorflow.python.framework.ops) is deprecated and will be removed in a future version.\n",
            "Instructions for updating:\n",
            "Colocations handled automatically by placer.\n",
            "WARNING:tensorflow:From /usr/local/lib/python3.6/dist-packages/keras/backend/tensorflow_backend.py:3445: calling dropout (from tensorflow.python.ops.nn_ops) with keep_prob is deprecated and will be removed in a future version.\n",
            "Instructions for updating:\n",
            "Please use `rate` instead of `keep_prob`. Rate should be set to `rate = 1 - keep_prob`.\n",
            "WARNING:tensorflow:From /usr/local/lib/python3.6/dist-packages/tensorflow/python/ops/math_ops.py:3066: to_int32 (from tensorflow.python.ops.math_ops) is deprecated and will be removed in a future version.\n",
            "Instructions for updating:\n",
            "Use tf.cast instead.\n",
            "Epoch 1/2\n",
            " - 59s - loss: 0.0015\n",
            "Epoch 2/2\n",
            " - 57s - loss: 7.2425e-04\n"
          ],
          "name": "stdout"
        },
        {
          "output_type": "execute_result",
          "data": {
            "text/plain": [
              "<keras.callbacks.History at 0x7f6dfbbfeeb8>"
            ]
          },
          "metadata": {
            "tags": []
          },
          "execution_count": 9
        }
      ]
    },
    {
      "cell_type": "code",
      "metadata": {
        "id": "8zmP6WQ-QKcf",
        "colab_type": "code",
        "colab": {}
      },
      "source": [
        "#predicting 246 values, using past 60 from the train data\n",
        "inputs = dat[len(dat) - len(valid) - 60:]\n",
        "inputs = np.array(inputs)\n",
        "# inputs = inputs.reshape(-1,1)\n",
        "inputs  = scaler.transform(inputs)\n",
        "\n",
        "X_test = []\n",
        "for i in range(60,inputs.shape[0]):\n",
        "    X_test.append(inputs[i-60:i,0])\n",
        "X_test = np.array(X_test)"
      ],
      "execution_count": 0,
      "outputs": []
    },
    {
      "cell_type": "code",
      "metadata": {
        "id": "-x5y-I93gb31",
        "colab_type": "code",
        "colab": {}
      },
      "source": [
        "X_test = np.reshape(X_test, (X_test.shape[0],X_test.shape[1],1))\n",
        "closing_price = model.predict(X_test)\n",
        "closing_price = scaler.inverse_transform(closing_price)"
      ],
      "execution_count": 0,
      "outputs": []
    },
    {
      "cell_type": "code",
      "metadata": {
        "id": "Li4pXWumScY7",
        "colab_type": "code",
        "outputId": "7f588b40-9621-4f32-be20-e83f911eee85",
        "colab": {
          "base_uri": "https://localhost:8080/",
          "height": 34
        }
      },
      "source": [
        "rms=np.sqrt(np.mean(np.power((valid-closing_price),2)))\n",
        "rms\n",
        "# preds=np.array(preds)\n",
        "# preds=preds.reshape(1,-1)\n",
        "# preds = scaler.inverse_transform(preds)\n",
        "# preds"
      ],
      "execution_count": 0,
      "outputs": [
        {
          "output_type": "execute_result",
          "data": {
            "text/plain": [
              "7.4538965107854445"
            ]
          },
          "metadata": {
            "tags": []
          },
          "execution_count": 12
        }
      ]
    },
    {
      "cell_type": "code",
      "metadata": {
        "id": "R2EukvkmQKck",
        "colab_type": "code",
        "outputId": "a266a126-73c0-4b0f-e270-8cdd8d5a2430",
        "colab": {
          "base_uri": "https://localhost:8080/",
          "height": 269
        }
      },
      "source": [
        "plt.plot(valid)\n",
        "plt.plot(closing_price)\n",
        "plt.show()"
      ],
      "execution_count": 0,
      "outputs": [
        {
          "output_type": "display_data",
          "data": {
            "image/png": "[encoded data removed]",
            "text/plain": [
              "<Figure size 432x288 with 1 Axes>"
            ]
          },
          "metadata": {
            "tags": []
          }
        }
      ]
    },
    {
      "cell_type": "code",
      "metadata": {
        "id": "3yHfCz3umUrK",
        "colab_type": "code",
        "colab": {}
      },
      "source": [
        "#defining lists for results and failures in fetching data\n",
        "results=[]\n",
        "failed=[]"
      ],
      "execution_count": 0,
      "outputs": []
    },
    {
      "cell_type": "code",
      "metadata": {
        "id": "tmC5Y2RnfvzN",
        "colab_type": "code",
        "colab": {}
      },
      "source": [
        "\n",
        "def make_model(atrm,model_name):\n",
        "  try:\n",
        "    #creating train and test sets\n",
        "    lent = atrm.count()\n",
        "    itrain = int(0.7*lent)\n",
        "    train = atrm.where(fn.col('id')<itrain)\n",
        "    valid = atrm.where(fn.col('id')>=itrain)\n",
        "    train = train.select('close').collect()\n",
        "    train = [float(row.close) for row in train]\n",
        "    valid = valid.select('close').collect()\n",
        "    valid = [float(row.close) for row in valid]\n",
        "    #converting dataset into x_train and y_train\n",
        "    data = train.copy()\n",
        "    data.extend(valid)\n",
        "    dat=np.reshape(data,(-1,1))\n",
        "    #defining scaler and scaling data points in range of 0 to 1\n",
        "    scaler = MinMaxScaler(feature_range=(0, 1))\n",
        "    scaled_data = scaler.fit_transform(dat)\n",
        "    x_train, y_train = [], []\n",
        "    for i in range(60,len(train)):\n",
        "        x_train.append(scaled_data[i-60:i,0])\n",
        "        y_train.append(scaled_data[i,0])\n",
        "    x_train, y_train = np.array(x_train), np.array(y_train)\n",
        "    x_train = np.reshape(x_train, (x_train.shape[0],x_train.shape[1],1))\n",
        "    #creating lstm model\n",
        "    model = Sequential()\n",
        "    model.add(LSTM(units=50, return_sequences=True, input_shape=(x_train.shape[1],1)))\n",
        "    model.add(Dropout(0.2))\n",
        "    model.add(LSTM(units=50))\n",
        "    model.add(Dense(1))\n",
        "    model.compile(loss='mean_squared_error', optimizer='adam')\n",
        "    model.fit(x_train, y_train, epochs=2, batch_size=1, verbose=2)\n",
        "    filename= model_name+\".h5\"\n",
        "    model.save('finmod/'+filename)\n",
        "    #predicting 1 years stock prices, using past 60 from the train data and validating\n",
        "    #creating input and output test data\n",
        "    inputs = dat[len(dat) - len(valid) - 60:]\n",
        "    inputs = np.array(inputs)\n",
        "    inputs  = scaler.transform(inputs)\n",
        "    X_test = []\n",
        "    for i in range(60,inputs.shape[0]):\n",
        "        X_test.append(inputs[i-60:i,0])\n",
        "    X_test = np.array(X_test)\n",
        "    X_test = np.reshape(X_test, (X_test.shape[0],X_test.shape[1],1))\n",
        "    #predicting on test data\n",
        "    closing_price = model.predict(X_test)\n",
        "    closing_price = scaler.inverse_transform(closing_price)\n",
        "    rms=np.sqrt(np.mean(np.power((valid-closing_price),2)))\n",
        "    results.append({\"ticker\":model_name,\"rmse\":rms})\n",
        "    print(rms)\n",
        "  except IndexError:\n",
        "    failed.append(model_name)\n",
        "  except ValueError:\n",
        "    failed.append(model_name)\n",
        "  "
      ],
      "execution_count": 0,
      "outputs": []
    },
    {
      "cell_type": "code",
      "metadata": {
        "id": "ReOnuT32S0XG",
        "colab_type": "code",
        "colab": {}
      },
      "source": [
        ""
      ],
      "execution_count": 0,
      "outputs": []
    },
    {
      "cell_type": "code",
      "metadata": {
        "id": "TSEBT6EaQZOQ",
        "colab_type": "code",
        "colab": {}
      },
      "source": [
        "for val,x in enumerate(snpticks):\n",
        "  atrm = stock_df.where(fn.col('ticker')==x)\n",
        "  atrm = atrm.select('close','date')\n",
        "  atrm = atrm.withColumn(\"id\",fn.monotonically_increasing_id())\n",
        "  print(val,x)\n",
        "  make_model(atrm,x)\n",
        "  "
      ],
      "execution_count": 0,
      "outputs": []
    },
    {
      "cell_type": "code",
      "metadata": {
        "id": "9ZK-yV28i9Mf",
        "colab_type": "code",
        "colab": {}
      },
      "source": [
        "# !unzip /content/models.zip /content/models/\n",
        "import zipfile\n",
        "os.mkdir('finmod')\n",
        "with zipfile.ZipFile(\"/content/finmod.zip\",\"r\") as zip_ref:\n",
        "    zip_ref.extractall(\"/content/finmod/\")"
      ],
      "execution_count": 0,
      "outputs": []
    },
    {
      "cell_type": "code",
      "metadata": {
        "id": "ugINXE8FCdE4",
        "colab_type": "code",
        "colab": {}
      },
      "source": [
        "!zip -r /content/finmod.zip /content/finmod \n",
        "from google.colab import files\n",
        "files.download(\"/content/finmod.zip\")"
      ],
      "execution_count": 0,
      "outputs": []
    },
    {
      "cell_type": "code",
      "metadata": {
        "id": "H4eHXgssUYAT",
        "colab_type": "code",
        "colab": {}
      },
      "source": [
        "os.rmdir('finmod')"
      ],
      "execution_count": 0,
      "outputs": []
    },
    {
      "cell_type": "code",
      "metadata": {
        "id": "1ih39uCIq0ZT",
        "colab_type": "code",
        "colab": {}
      },
      "source": [
        "snpfin=['AAPL','GOOGL','MSFT','BAC','NFLX','NKE','AET','MS','AMZN','CVS','EXPE','GAP']\n",
        "os.mkdir(\"plots\")"
      ],
      "execution_count": 0,
      "outputs": []
    },
    {
      "cell_type": "code",
      "metadata": {
        "id": "yMubz7-9Ck_k",
        "colab_type": "code",
        "colab": {}
      },
      "source": [
        "def validate():\n",
        "  resultvalid=[]\n",
        "  filenames=[]\n",
        "  for root, dirs, files in os.walk(\"/content/finmod/\"):  \n",
        "    for filename in files:\n",
        "      filenames.append(filename)\n",
        "  for stockmodel in filenames:\n",
        "    x=stockmodel[:-3]\n",
        "    print(x)\n",
        "    atrm = stock_df.where(fn.col('ticker')==x)\n",
        "    atrm = atrm.select('close','date')\n",
        "    atrm = atrm.withColumn(\"id\",fn.monotonically_increasing_id())\n",
        "    #creating train and test sets\n",
        "    lent = atrm.count()\n",
        "    itrain = int(0.7*lent)\n",
        "    train = atrm.where(fn.col('id')<itrain)\n",
        "    valid = atrm.where(fn.col('id')>=itrain)\n",
        "    train = train.select('close').collect()\n",
        "    train = [float(row.close) for row in train]\n",
        "    valid = valid.select('close').collect()\n",
        "    valid = [float(row.close) for row in valid]\n",
        "    scaler = MinMaxScaler(feature_range=(0, 1))\n",
        "    data = atrm.select('close').collect()\n",
        "    dat=np.reshape(data,(-1,1))\n",
        "    scaled_data = scaler.fit_transform(dat)\n",
        "    model=load_model(\"finmod/\"+stockmodel)\n",
        "    #predicting 246 values, using past 60 from the train data\n",
        "    inputs = dat[len(dat) - len(valid) - 60:]\n",
        "    inputs = np.array(inputs)\n",
        "    # inputs = inputs.reshape(-1,1)\n",
        "    inputs  = scaler.transform(inputs)\n",
        "    X_test = []\n",
        "    for i in range(60,inputs.shape[0]):\n",
        "        X_test.append(inputs[i-60:i,0])\n",
        "    X_test = np.array(X_test)\n",
        "    X_test = np.reshape(X_test, (X_test.shape[0],X_test.shape[1],1))\n",
        "    closing_price = model.predict(X_test)\n",
        "    closing_price = scaler.inverse_transform(closing_price)\n",
        "    rms=np.sqrt(np.mean(np.power((valid-closing_price),2)))\n",
        "    resultvalid.append({\"ticker\":x,\"rmse\":rms})\n",
        "    plt.plot()\n",
        "    plt.plot(valid,'-b',label='Test')\n",
        "    plt.plot(closing_price,'-r',label='Prediction')\n",
        "    plt.legend()\n",
        "    plt.xlabel('Time')\n",
        "    plt.ylabel('Stock Price')\n",
        "    plt.title(x)\n",
        "    plt.show()\n",
        "    plt.savefig(\"plots/\"+x+'.png')\n",
        "    plt.show()\n",
        "  return resultvalid\n",
        "  \n",
        "        "
      ],
      "execution_count": 0,
      "outputs": []
    },
    {
      "cell_type": "code",
      "metadata": {
        "id": "rLG26yjfqJuT",
        "colab_type": "code",
        "colab": {}
      },
      "source": [
        "x=validate()"
      ],
      "execution_count": 0,
      "outputs": []
    },
    {
      "cell_type": "code",
      "metadata": {
        "id": "PvcGJsrzqaVj",
        "colab_type": "code",
        "colab": {}
      },
      "source": [
        "x"
      ],
      "execution_count": 0,
      "outputs": []
    },
    {
      "cell_type": "code",
      "metadata": {
        "id": "qqYWvEgKsZOW",
        "colab_type": "code",
        "colab": {}
      },
      "source": [
        "def recommend(month,day,year,stocks):\n",
        "  results=[]\n",
        "  filenames=[]\n",
        "  #making filenames\n",
        "  for x in stocks:\n",
        "    filenames.append(x+\".h5\")\n",
        "  #using all the saved models to get recommendations\n",
        "  for stockmodel in filenames:\n",
        "    x=stockmodel[:-3]\n",
        "    print(x)\n",
        "    atrm = stock_df.where(fn.col('ticker')==x)\n",
        "    atrm = atrm.select('close','date')\n",
        "    atrm = atrm.withColumn(\"id\",fn.monotonically_increasing_id())\n",
        "    #defining scaler and scaling data\n",
        "    scaler = MinMaxScaler(feature_range=(0, 1))\n",
        "    scaled_data = scaler.fit_transform(dat)\n",
        "    data=atrm.select('close').collect()\n",
        "    dat=np.reshape(data,(-1,1))\n",
        "    model=load_model(\"finmod/\"+stockmodel)\n",
        "    #getting data of previous 60 values for given date\n",
        "    dt=day+\"-\"+month+\"-\"+year\n",
        "    idx=atrm.where(fn.col('date')==dt).select('id').collect()[0][0]\n",
        "    X_test=atrm.where(fn.col('id')<idx)\n",
        "    X_test=X_test.where(fn.col('id')>=idx-60)\n",
        "    inputs=X_test.select('close').collect()\n",
        "    y=inputs\n",
        "    inputs = np.reshape(inputs,(-1,1))\n",
        "    inputs  = scaler.transform(inputs)\n",
        "    X_test = np.array([inputs])\n",
        "    X_test = np.reshape(X_test, (X_test.shape[0],X_test.shape[1],1))\n",
        "    #predicting that day's stock price\n",
        "    closing_price = model.predict(X_test)\n",
        "    closing_price = scaler.inverse_transform(closing_price)\n",
        "    close=closing_price[0][0]\n",
        "    open=y[0][-1]\n",
        "    return_value=(close-open)/open\n",
        "    #collecting all the return values\n",
        "    results.append({\"ticker\":x,\"return\":return_value})\n",
        "  \n",
        "  #ranking stocks based on return values\n",
        "  results=sorted(results, key = lambda i: i['return'],reverse=True)\n",
        "  return results"
      ],
      "execution_count": 0,
      "outputs": []
    },
    {
      "cell_type": "code",
      "metadata": {
        "id": "qIVSWr7BxgO6",
        "colab_type": "code",
        "colab": {}
      },
      "source": [
        "import pickle\n",
        "import os\n",
        "from datetime import datetime\n",
        "dt=datetime.strptime('04-10-09', '%d-%m-%y')"
      ],
      "execution_count": 0,
      "outputs": []
    },
    {
      "cell_type": "code",
      "metadata": {
        "id": "g3oP-Lna4bul",
        "colab_type": "code",
        "colab": {}
      },
      "source": [
        "#testing the function\n",
        "res=recommend('10','04','2017',['AMZN', 'AAPL', 'EXPE', 'CVS', 'BAC', 'GOOGL'])"
      ],
      "execution_count": 0,
      "outputs": []
    },
    {
      "cell_type": "code",
      "metadata": {
        "id": "ZBq8bVgD5TZZ",
        "colab_type": "code",
        "colab": {}
      },
      "source": [
        "#displaying results\n",
        "res"
      ],
      "execution_count": 0,
      "outputs": []
    },
    {
      "cell_type": "code",
      "metadata": {
        "id": "e04G8Orixn8A",
        "colab_type": "code",
        "colab": {}
      },
      "source": [
        "lis=[{'return': -0.050563465255895855, 'ticker': 'AMZN'},\n",
        " {'return': 0.007604431894680213, 'ticker': 'AAPL'},\n",
        " {'return': -0.11503653788989553, 'ticker': 'EXPE'},\n",
        " {'return': 0.038003987347201416, 'ticker': 'CVS'},\n",
        " {'return': 0.033118178204792244, 'ticker': 'BAC'},\n",
        " {'return': 0.013328255641209534, 'ticker': 'GOOGL'}]\n",
        "sorted(lis, key = lambda i: i['return'],reverse=True)"
      ],
      "execution_count": 0,
      "outputs": []
    },
    {
      "cell_type": "code",
      "metadata": {
        "id": "ID5uevTcxwGb",
        "colab_type": "code",
        "colab": {}
      },
      "source": [
        "def recommend(stocks):\n",
        "  resultvalid=[]\n",
        "  filenames=[]\n",
        "  for x in stocks:\n",
        "    filenames.append(x+\".h5\")\n",
        "  for stockmodel in filenames:\n",
        "    try:\n",
        "      x=stockmodel[:-3]\n",
        "      print(x)\n",
        "      atrm = stock_df.where(fn.col('ticker')==x)\n",
        "      atrm = atrm.select('close','date')\n",
        "      atrm = atrm.withColumn(\"id\",fn.monotonically_increasing_id())\n",
        "      #converting dataset into x_train and y_train\n",
        "      scaler = MinMaxScaler(feature_range=(0, 1))\n",
        "      data=atrm.select('close').collect()\n",
        "      dat=np.reshape(data,(-1,1))\n",
        "      scaled_data = scaler.fit_transform(dat)\n",
        "      model=load_model(\"finmod/\"+stockmodel)\n",
        "      #predicting 246 values, using past 60 from the train data\n",
        "      inputs=spark.read.csv(x+'.csv', header=True, inferSchema=True)\n",
        "      inputs=inputs.select('close').collect()\n",
        "      inputs = np.reshape(inputs,(-1,1))\n",
        "      inputs  = scaler.transform(inputs)\n",
        "      X_test = np.array([inputs[:-1]])\n",
        "      X_test = np.reshape(X_test, (X_test.shape[0],X_test.shape[1],1))\n",
        "      closing_price = model.predict(X_test)\n",
        "      closing_price = scaler.inverse_transform(closing_price)\n",
        "      close=closing_price[0][0]\n",
        "      resultvalid.append({\"ticker\":x,\"close\":close})\n",
        "    except ValueError:\n",
        "      continue\n",
        "#   resultvalid=sorted(resultvalid, key = lambda i: i['return'],reverse=True)\n",
        "  return resultvalid"
      ],
      "execution_count": 0,
      "outputs": []
    },
    {
      "cell_type": "code",
      "metadata": {
        "id": "6UXWaeKwRSSC",
        "colab_type": "code",
        "colab": {}
      },
      "source": [
        "stocks=['AAPL','CVS','BAC','AMD']\n",
        "z=recommend('10','04','2017',stocks)"
      ],
      "execution_count": 0,
      "outputs": []
    },
    {
      "cell_type": "code",
      "metadata": {
        "id": "dKoLxAgURrZI",
        "colab_type": "code",
        "colab": {}
      },
      "source": [
        "z"
      ],
      "execution_count": 0,
      "outputs": []
    },
    {
      "cell_type": "code",
      "metadata": {
        "id": "J0e9GlcHVs4I",
        "colab_type": "code",
        "colab": {}
      },
      "source": [
        ""
      ],
      "execution_count": 0,
      "outputs": []
    }
  ]
}